{
 "cells": [
  {
   "cell_type": "code",
   "execution_count": 12,
   "metadata": {},
   "outputs": [
    {
     "name": "stdout",
     "output_type": "stream",
     "text": [
      "       InvoiceNo StockCode  ... CustomerID         Country\n",
      "0         536365    85123A  ...    17850.0  United Kingdom\n",
      "1         536365     71053  ...    17850.0  United Kingdom\n",
      "2         536365    84406B  ...    17850.0  United Kingdom\n",
      "3         536365    84029G  ...    17850.0  United Kingdom\n",
      "4         536365    84029E  ...    17850.0  United Kingdom\n",
      "...          ...       ...  ...        ...             ...\n",
      "541904    581587     22613  ...    12680.0          France\n",
      "541905    581587     22899  ...    12680.0          France\n",
      "541906    581587     23254  ...    12680.0          France\n",
      "541907    581587     23255  ...    12680.0          France\n",
      "541908    581587     22138  ...    12680.0          France\n",
      "\n",
      "[541909 rows x 8 columns]\n"
     ]
    }
   ],
   "source": [
    "from dataframe import df, pd, np\n",
    "\n",
    "print(df)"
   ]
  },
  {
   "cell_type": "code",
   "execution_count": 13,
   "metadata": {},
   "outputs": [
    {
     "name": "stdout",
     "output_type": "stream",
     "text": [
      "StockCode             10002  10080  10120  ...  gift_0001_40  gift_0001_50    m\n",
      "Country                                    ...                                 \n",
      "Australia               NaN    NaN    NaN  ...           NaN           NaN  NaN\n",
      "Austria                 NaN    NaN    NaN  ...           NaN           NaN  NaN\n",
      "Bahrain                 NaN    NaN    NaN  ...           NaN           NaN  NaN\n",
      "Belgium                 NaN    NaN    NaN  ...           NaN           NaN  NaN\n",
      "Brazil                  NaN    NaN    NaN  ...           NaN           NaN  NaN\n",
      "Canada                  NaN    NaN    NaN  ...           NaN           NaN  NaN\n",
      "Channel Islands         NaN    NaN    NaN  ...           NaN           NaN  NaN\n",
      "Cyprus                  NaN    NaN    NaN  ...           NaN           NaN  NaN\n",
      "Czech Republic          NaN    NaN    NaN  ...           NaN           NaN  NaN\n",
      "Denmark                 NaN    NaN    NaN  ...           NaN           NaN  NaN\n",
      "EIRE                   12.0    NaN    NaN  ...           NaN           NaN  NaN\n",
      "European Community      NaN    NaN    NaN  ...           NaN           NaN  NaN\n",
      "Finland                 NaN    NaN    NaN  ...           NaN           NaN  NaN\n",
      "France                372.0    NaN   10.0  ...           NaN           NaN  NaN\n",
      "Germany                 1.0    NaN    NaN  ...           NaN           NaN  NaN\n",
      "Greece                  NaN    NaN    NaN  ...           NaN           NaN  NaN\n",
      "Hong Kong               NaN    NaN    NaN  ...           NaN           NaN  NaN\n",
      "Iceland                 NaN    NaN    NaN  ...           NaN           NaN  NaN\n",
      "Israel                  NaN    NaN    NaN  ...           NaN           NaN  NaN\n",
      "Italy                   NaN    NaN    NaN  ...           NaN           NaN  NaN\n",
      "Japan                   1.0    NaN    NaN  ...           NaN           NaN  NaN\n",
      "Lebanon                 NaN    NaN    NaN  ...           NaN           NaN  NaN\n",
      "Lithuania               NaN    NaN    NaN  ...           NaN           NaN  NaN\n",
      "Malta                   NaN    NaN    NaN  ...           NaN           NaN  NaN\n",
      "Netherlands             NaN    NaN    NaN  ...           NaN           NaN  NaN\n",
      "Norway                  NaN    NaN    NaN  ...           NaN           NaN  NaN\n",
      "Poland                  NaN    NaN    NaN  ...           NaN           NaN  NaN\n",
      "Portugal                NaN    NaN    NaN  ...           NaN           NaN  NaN\n",
      "RSA                     NaN    NaN    NaN  ...           NaN           NaN  NaN\n",
      "Saudi Arabia            NaN    NaN    NaN  ...           NaN           NaN  NaN\n",
      "Singapore               NaN    NaN    NaN  ...           NaN           NaN  NaN\n",
      "Spain                  24.0    NaN    NaN  ...           NaN           NaN  NaN\n",
      "Sweden                  NaN    NaN    NaN  ...           NaN           NaN  NaN\n",
      "Switzerland            12.0    NaN    NaN  ...           NaN           NaN  NaN\n",
      "USA                     NaN    NaN    NaN  ...           NaN           NaN  NaN\n",
      "United Arab Emirates    NaN    NaN    NaN  ...           NaN           NaN  NaN\n",
      "United Kingdom        615.0  495.0  183.0  ...           3.0           4.0  1.0\n",
      "Unspecified             NaN    NaN    NaN  ...           NaN           NaN  NaN\n",
      "\n",
      "[38 rows x 4070 columns]\n"
     ]
    }
   ],
   "source": [
    "pivot_table = pd.pivot_table(\n",
    "    df, \n",
    "    values= 'Quantity', \n",
    "    index='Country',\n",
    "    columns='StockCode',\n",
    "    aggfunc='sum'\n",
    ")\n",
    "\n",
    "print(pivot_table)"
   ]
  },
  {
   "cell_type": "code",
   "execution_count": 14,
   "metadata": {},
   "outputs": [],
   "source": [
    "df_test = pd.DataFrame({\n",
    "    'A': ['foo', 'bar', 'baz'],\n",
    "    'b': [1, 2, 3],\n",
    "    'c': [4, 5, 6]\n",
    "})"
   ]
  },
  {
   "cell_type": "code",
   "execution_count": 15,
   "metadata": {},
   "outputs": [
    {
     "name": "stdout",
     "output_type": "stream",
     "text": [
      "0  A    foo\n",
      "   b      1\n",
      "   c      4\n",
      "1  A    bar\n",
      "   b      2\n",
      "   c      5\n",
      "2  A    baz\n",
      "   b      3\n",
      "   c      6\n",
      "dtype: object\n"
     ]
    }
   ],
   "source": [
    "df_stacked = df_test.stack()\n",
    "\n",
    "print(df_stacked)"
   ]
  },
  {
   "cell_type": "code",
   "execution_count": 16,
   "metadata": {},
   "outputs": [
    {
     "name": "stdout",
     "output_type": "stream",
     "text": [
      "     A  b  c\n",
      "0  foo  1  4\n",
      "1  bar  2  5\n",
      "2  baz  3  6\n"
     ]
    }
   ],
   "source": [
    "df_unstacked = df_stacked.unstack()\n",
    "\n",
    "print(df_unstacked)"
   ]
  },
  {
   "cell_type": "markdown",
   "metadata": {},
   "source": [
    "como crees que podemos utilizar las pivot tables, o como tambien podemos apilar o desapilar la informacoin par appoder mostrar "
   ]
  }
 ],
 "metadata": {
  "kernelspec": {
   "display_name": "Python 3",
   "language": "python",
   "name": "python3"
  },
  "language_info": {
   "codemirror_mode": {
    "name": "ipython",
    "version": 3
   },
   "file_extension": ".py",
   "mimetype": "text/x-python",
   "name": "python",
   "nbconvert_exporter": "python",
   "pygments_lexer": "ipython3",
   "version": "3.11.0"
  }
 },
 "nbformat": 4,
 "nbformat_minor": 2
}
