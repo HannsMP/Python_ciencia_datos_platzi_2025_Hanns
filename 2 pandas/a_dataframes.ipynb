{
 "cells": [
  {
   "cell_type": "markdown",
   "metadata": {},
   "source": [
    "[Kaggle](kaggle.com/datasets)\n",
    "\n",
    "[Archive](archive.ics.uci.edu) "
   ]
  }
 ],
 "metadata": {
  "kernelspec": {
   "display_name": "Python 3",
   "language": "python",
   "name": "python3"
  },
  "language_info": {
   "name": "python",
   "version": "3.11.0"
  }
 },
 "nbformat": 4,
 "nbformat_minor": 2
}
