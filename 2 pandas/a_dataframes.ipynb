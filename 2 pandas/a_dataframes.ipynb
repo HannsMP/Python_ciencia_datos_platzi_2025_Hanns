{
 "cells": [
  {
   "cell_type": "markdown",
   "metadata": {},
   "source": [
    "# datasets\n",
    "[Kaggle](https://kaggle.com/datasets)\n",
    "\n",
    "# machine learning\n",
    "[Archive](https://archive.ics.uci.edu) "
   ]
  },
  {
   "cell_type": "code",
   "execution_count": 14,
   "metadata": {},
   "outputs": [],
   "source": [
    "import pandas as pd\n",
    "import numpy as np\n",
    "from os import path, getcwd"
   ]
  },
  {
   "cell_type": "code",
   "execution_count": 15,
   "metadata": {},
   "outputs": [
    {
     "name": "stdout",
     "output_type": "stream",
     "text": [
      "   A  B  C\n",
      "0  1  2  3\n",
      "1  4  5  6\n",
      "2  7  8  9\n"
     ]
    }
   ],
   "source": [
    "data = np.array([\n",
    "    [1, 2, 3],\n",
    "    [4, 5, 6],\n",
    "    [7, 8, 9]\n",
    "])\n",
    "\n",
    "dt_from_array = pd.DataFrame(data, columns=['A', 'B', 'C'])\n",
    "\n",
    "print(dt_from_array)"
   ]
  },
  {
   "cell_type": "code",
   "execution_count": 16,
   "metadata": {},
   "outputs": [
    {
     "name": "stdout",
     "output_type": "stream",
     "text": [
      "   id  name age\n",
      "0   1  Jhon  22\n",
      "1   2  Anna  24\n"
     ]
    }
   ],
   "source": [
    "data = [\n",
    "    [1, 'Jhon', '22'],\n",
    "    [2, 'Anna', '24']\n",
    "]\n",
    "\n",
    "df_from_list = pd.DataFrame(data, columns=['id', 'name', 'age'])\n",
    "\n",
    "print(df_from_list)"
   ]
  },
  {
   "cell_type": "code",
   "execution_count": 17,
   "metadata": {},
   "outputs": [
    {
     "name": "stdout",
     "output_type": "stream",
     "text": [
      "   id  name  age\n",
      "0   1  Jhon   22\n",
      "1   2  Anna   24\n"
     ]
    }
   ],
   "source": [
    "data = [\n",
    "    {\"id\": 1, \"name\": 'Jhon', \"age\":22},\n",
    "    {\"id\": 2, \"name\": 'Anna', \"age\":24}\n",
    "]\n",
    "\n",
    "dt_from_dict_list = pd.DataFrame(data)\n",
    "\n",
    "print(dt_from_dict_list)"
   ]
  },
  {
   "cell_type": "code",
   "execution_count": 18,
   "metadata": {},
   "outputs": [
    {
     "name": "stdout",
     "output_type": "stream",
     "text": [
      "   id  name  age\n",
      "0   1  Jhon   22\n",
      "1   2  Anna   24\n",
      "2   3  Mike   21\n"
     ]
    }
   ],
   "source": [
    "data = {\n",
    "    \"id\": [1, 2, 3],\n",
    "    \"name\": ['Jhon', 'Anna', 'Mike'],\n",
    "    \"age\": [22, 24, 21]\n",
    "}\n",
    "\n",
    "dt_from_dict = pd.DataFrame(data)\n",
    "\n",
    "print(dt_from_dict)"
   ]
  },
  {
   "cell_type": "code",
   "execution_count": 19,
   "metadata": {},
   "outputs": [
    {
     "name": "stdout",
     "output_type": "stream",
     "text": [
      "   id  name  age\n",
      "0   1  Jhon   22\n",
      "1   2  Anna   24\n",
      "2   3  Mike   21\n"
     ]
    }
   ],
   "source": [
    "data = {\n",
    "    \"id\": pd.Series([1, 2, 3]),\n",
    "    \"name\": pd.Series(['Jhon', 'Anna', 'Mike']),\n",
    "    \"age\": pd.Series([22, 24, 21])\n",
    "}\n",
    "\n",
    "df_from_series_dict = pd.DataFrame(data)\n",
    "\n",
    "print(df_from_series_dict)"
   ]
  }
 ],
 "metadata": {
  "kernelspec": {
   "display_name": "Python 3",
   "language": "python",
   "name": "python3"
  },
  "language_info": {
   "codemirror_mode": {
    "name": "ipython",
    "version": 3
   },
   "file_extension": ".py",
   "mimetype": "text/x-python",
   "name": "python",
   "nbconvert_exporter": "python",
   "pygments_lexer": "ipython3",
   "version": "3.11.0"
  }
 },
 "nbformat": 4,
 "nbformat_minor": 2
}
