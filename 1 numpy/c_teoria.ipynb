{
 "cells": [
  {
   "cell_type": "markdown",
   "metadata": {},
   "source": [
    "Clase 4 - 1 (1).png\n",
    "\n",
    "# El álgebra lineal \n",
    "Es una rama fundamental de las matemáticas que se centra en el estudio de los vectores, las matrices y las transformaciones lineales. NumPy proporciona herramientas para resolver sistemas de ecuaciones lineales, realizar transformaciones geométricas y modelar problemas en diversas áreas de la ciencia y la ingeniería. Su aplicación es tan amplia que se encuentra en el corazón de múltiples disciplinas científicas y tecnológicas, facilitando desde la simulación de fenómenos físicos hasta la optimización de sistemas complejos.\n",
    "\n",
    "Los vectores y las matrices, los bloques de construcción del álgebra lineal, nos permiten representar y manipular datos de manera eficiente, un vector puede representar una lista de valores que podrían ser coordenadas espaciales, mientras que una matriz puede representar una transformación que afecta a estos vectores. Las operaciones básicas del álgebra lineal, como la suma, la multiplicación y la transposición de matrices, forman la base de muchas técnicas avanzadas en la física, la ingeniería, la economía y la informática.\n",
    "\n",
    "## Conceptos básicos de álgebra lineal\n",
    "Vectores: Son objetos que tienen magnitud y dirección. Se pueden representar como una lista de números, que son las coordenadas del vector.\n",
    "\n",
    "Matrices: Son arreglos bidimensionales de números que representan transformaciones lineales. Una matriz puede transformar un vector en otro vector.\n",
    "\n",
    "Transformaciones Lineales: Son funciones que toman vectores como entrada y producen otros vectores como salida, respetando las operaciones de suma y multiplicación por un escalar.\n",
    "\n",
    "Espacios Vectoriales: Conjuntos de vectores que pueden sumarse entre sí y multiplicarse por escalares, siguiendo ciertas reglas.\n",
    "\n",
    "## Ejemplos aplicativos\n",
    "\n",
    "Gráficos por Computadora: Las transformaciones lineales se utilizan para rotar, escalar y traducir objetos en la pantalla.\n",
    "\n",
    "Procesamiento de Imágenes: Las matrices de convolución (kernels) se usan para aplicar filtros a las imágenes, mejorando su calidad o destacando características específicas.\n",
    "\n",
    "Aprendizaje Automático: Los algoritmos de regresión lineal, redes neuronales y otros modelos dependen en gran medida de las operaciones matriciales.\n",
    "\n",
    "# Operaciones principales en álgebra lineal\n",
    "Vamos a ver algunas de las operaciones más comunes en álgebra lineal utilizando matrices.\n",
    "\n",
    "Suma de matrices\n",
    "La suma de matrices se realiza elemento por elemento. Por ejemplo, si tenemos dos matrices A y B:\n",
    "\n",
    "Untitled.png\n",
    "Código en NumPy para la suma de matrices:"
   ]
  },
  {
   "cell_type": "code",
   "execution_count": null,
   "metadata": {},
   "outputs": [],
   "source": [
    "import numpy as np\n",
    "\n",
    "A = np.array([[1, 2], [3, 4]])\n",
    "B = np.array([[5, 6], [7, 8]])\n",
    "\n",
    "suma = A + B\n",
    "print(\"Suma de matrices:\\n\", suma)"
   ]
  },
  {
   "cell_type": "markdown",
   "metadata": {},
   "source": [
    "## Multiplicación de matrices\n",
    "La multiplicación de matrices combina filas de una matriz con columnas de otra. Por ejemplo, si tenemos las mismas matrices A y B:\n",
    "\n",
    "producto.png\n",
    "Código en NumPy para la multiplicación de matrices:"
   ]
  },
  {
   "cell_type": "code",
   "execution_count": null,
   "metadata": {},
   "outputs": [],
   "source": [
    "producto = np.dot(A, B)\n",
    "print(\"Producto de matrices:\\n\", producto)"
   ]
  },
  {
   "cell_type": "markdown",
   "metadata": {},
   "source": [
    "## Transposición de Matrices\n",
    "La transposición de una matriz intercambia sus filas y columnas. Por ejemplo, la transposición de la matriz A es:\n",
    "\n",
    "Untitled (2).png\n",
    "## Determinante de una matriz\n",
    "El determinante es un valor único que puede calcularse a partir de una matriz cuadrada. Por ejemplo, el determinante de la matriz AAA es:\n",
    "\n",
    "Código en NumPy para el determinante de una matriz:"
   ]
  },
  {
   "cell_type": "code",
   "execution_count": null,
   "metadata": {},
   "outputs": [],
   "source": [
    "determinante = np.linalg.det(A)\n",
    "print(\"Determinante de A:\", determinante)"
   ]
  },
  {
   "cell_type": "markdown",
   "metadata": {},
   "source": [
    "# Más operaciones de álgebra lineal con NumPy\n",
    "NumPy ofrece una variedad de funciones que facilitan el trabajo con álgebra lineal. Aquí hay algunas más:\n",
    "\n",
    "## Inversa de una matriz\n",
    "La matriz inversa de A:"
   ]
  },
  {
   "cell_type": "code",
   "execution_count": null,
   "metadata": {},
   "outputs": [],
   "source": [
    "inversa = np.linalg.inv(A)\n",
    "print(\"Inversa de A:\\n\", inversa)"
   ]
  },
  {
   "cell_type": "markdown",
   "metadata": {},
   "source": [
    "## Valores y vectores propios\n",
    "Los valores propios y los vectores propios son fundamentales en muchas aplicaciones, como en la compresión de datos y el análisis de sistemas dinámicos."
   ]
  },
  {
   "cell_type": "code",
   "execution_count": null,
   "metadata": {},
   "outputs": [],
   "source": [
    "valores_propios, vectores_propios = np.linalg.eig(A)\n",
    "print(\"Valores propios de A:\\n\", valores_propios)\n",
    "print(\"Vectores propios de A:\\n\", vectores_propios)"
   ]
  },
  {
   "cell_type": "markdown",
   "metadata": {},
   "source": [
    "## Resolución de sistemas de ecuaciones lineales\n",
    "Para resolver un sistema de ecuaciones lineales AX=BAX = BAX=B:"
   ]
  },
  {
   "cell_type": "code",
   "execution_count": null,
   "metadata": {},
   "outputs": [],
   "source": [
    "B = np.array([1, 2])\n",
    "X = np.linalg.solve(A, B)\n",
    "print(\"Solución del sistema AX = B:\\n\", X)"
   ]
  },
  {
   "cell_type": "markdown",
   "metadata": {},
   "source": [
    "NumPy es una herramienta poderosa para manejar cálculos numéricos y operaciones de álgebra lineal en Python. Su eficiencia y facilidad de uso la convierten en una biblioteca indispensable para científicos de datos, ingenieros y desarrolladores. Desde la creación de arrays hasta la manipulación de imágenes, NumPy abre un mundo de posibilidades en diversas aplicaciones del mundo real.\n",
    "\n",
    "Espero que este blog haya despertado tu interés y te haya dado una visión clara de cómo usar NumPy para realizar operaciones de álgebra lineal y mucho más. ¡Sigue explorando y experimentando con NumPy para descubrir todo su potencial! ⚡️"
   ]
  }
 ],
 "metadata": {
  "kernelspec": {
   "display_name": "Python 3",
   "language": "python",
   "name": "python3"
  },
  "language_info": {
   "name": "python",
   "version": "3.11.0"
  }
 },
 "nbformat": 4,
 "nbformat_minor": 2
}
