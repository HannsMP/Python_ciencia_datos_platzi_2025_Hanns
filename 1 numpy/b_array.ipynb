{
 "cells": [
  {
   "cell_type": "code",
   "execution_count": 1,
   "metadata": {},
   "outputs": [],
   "source": [
    "import numpy as np"
   ]
  },
  {
   "cell_type": "code",
   "execution_count": 3,
   "metadata": {},
   "outputs": [
    {
     "name": "stdout",
     "output_type": "stream",
     "text": [
      "2\n",
      "(2, 3)\n",
      "int64\n"
     ]
    }
   ],
   "source": [
    "array = np.array([[1, 2, 3], [4, 5, 6]])\n",
    "\n",
    "print(array.ndim)\n",
    "print(array.shape)\n",
    "print(array.dtype)"
   ]
  },
  {
   "cell_type": "markdown",
   "metadata": {},
   "source": [
    "uint8, 8 bits, entre 0 y 255, no negativos\n",
    "float32, 32 bits, calculos cientificos, precision moderada\n",
    "float64, 54 bits, por defecto para numeros con decimales"
   ]
  },
  {
   "cell_type": "code",
   "execution_count": 5,
   "metadata": {},
   "outputs": [
    {
     "name": "stdout",
     "output_type": "stream",
     "text": [
      "3\n"
     ]
    }
   ],
   "source": [
    "z = np.array(3, dtype=np.uint8)\n",
    "\n",
    "print(z)"
   ]
  },
  {
   "cell_type": "code",
   "execution_count": 6,
   "metadata": {},
   "outputs": [
    {
     "name": "stdout",
     "output_type": "stream",
     "text": [
      "[1. 2. 3.]\n"
     ]
    }
   ],
   "source": [
    "double_array = np.array([1,2,3], dtype='d')\n",
    "\n",
    "print(double_array)"
   ]
  },
  {
   "cell_type": "code",
   "execution_count": 7,
   "metadata": {},
   "outputs": [
    {
     "name": "stdout",
     "output_type": "stream",
     "text": [
      "3.0\n"
     ]
    }
   ],
   "source": [
    "z = z.astype(np.float64)\n",
    "\n",
    "print(z)"
   ]
  },
  {
   "cell_type": "code",
   "execution_count": 9,
   "metadata": {},
   "outputs": [
    {
     "name": "stdout",
     "output_type": "stream",
     "text": [
      "21\n"
     ]
    }
   ],
   "source": [
    "array = np.array([[1,2,3], [4,5,6]])\n",
    "\n",
    "sum = np.sum(array)\n",
    "print(sum)"
   ]
  },
  {
   "cell_type": "code",
   "execution_count": 10,
   "metadata": {},
   "outputs": [
    {
     "name": "stdout",
     "output_type": "stream",
     "text": [
      "3.5\n"
     ]
    }
   ],
   "source": [
    "mean = np.mean(array)\n",
    "print(mean)"
   ]
  },
  {
   "cell_type": "code",
   "execution_count": 11,
   "metadata": {},
   "outputs": [
    {
     "name": "stdout",
     "output_type": "stream",
     "text": [
      "1.707825127659933\n"
     ]
    }
   ],
   "source": [
    "std = np.std(array)\n",
    "print(std)"
   ]
  },
  {
   "cell_type": "markdown",
   "metadata": {},
   "source": [
    "¿Por qué usamos lo arrays en Numpy?\n",
    "\n",
    "Los arrays en NumPy se utilizan porque ofrecen una estructura eficiente y flexible para manejar grandes volúmenes de datos numéricos. Estos son algunos de los motivos:\n",
    "\n",
    "Eficiencia: Los arrays de NumPy son más rápidos y utilizan menos memoria que las listas de Python. Esto se debe a que NumPy está implementado en C y realiza operaciones matemáticas de manera muy eficiente.\n",
    "\n",
    "Operaciones Vectorizadas: NumPy permite realizar operaciones matemáticas y lógicas sobre arrays enteros sin necesidad de bucles explícitos. Esto se conoce como vectorización y resulta en un código más limpio y rápido.\n",
    "\n",
    "Funcionalidad Extendida: NumPy proporciona una amplia gama de funciones matemáticas y estadísticas que se pueden aplicar directamente a los arrays. Además, facilita la manipulación de datos, como la reshaping, slicing, y indexing de arrays.\n",
    "\n",
    "Compatibilidad: NumPy es el fundamento de muchos otros paquetes científicos y de análisis de datos en Python, como SciPy, Pandas, y scikit-learn. Utilizar NumPy facilita la integración y el uso de estas bibliotecas."
   ]
  }
 ],
 "metadata": {
  "kernelspec": {
   "display_name": "Python 3",
   "language": "python",
   "name": "python3"
  },
  "language_info": {
   "codemirror_mode": {
    "name": "ipython",
    "version": 3
   },
   "file_extension": ".py",
   "mimetype": "text/x-python",
   "name": "python",
   "nbconvert_exporter": "python",
   "pygments_lexer": "ipython3",
   "version": "3.11.0"
  }
 },
 "nbformat": 4,
 "nbformat_minor": 2
}
